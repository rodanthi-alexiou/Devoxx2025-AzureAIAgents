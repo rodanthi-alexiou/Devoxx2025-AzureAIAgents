{
 "cells": [
  {
   "cell_type": "code",
   "execution_count": null,
   "metadata": {},
   "outputs": [
    {
     "name": "stdout",
     "output_type": "stream",
     "text": [
      "Requirement already satisfied: azure-search-documents in c:\\users\\ralexiou\\appdata\\local\\packages\\pythonsoftwarefoundation.python.3.10_qbz5n2kfra8p0\\localcache\\local-packages\\python310\\site-packages (11.6.0b11)\n",
      "Requirement already satisfied: azure-core>=1.28.0 in c:\\users\\ralexiou\\appdata\\local\\packages\\pythonsoftwarefoundation.python.3.10_qbz5n2kfra8p0\\localcache\\local-packages\\python310\\site-packages (from azure-search-documents) (1.32.0)\n",
      "Requirement already satisfied: azure-common>=1.1 in c:\\users\\ralexiou\\appdata\\local\\packages\\pythonsoftwarefoundation.python.3.10_qbz5n2kfra8p0\\localcache\\local-packages\\python310\\site-packages (from azure-search-documents) (1.1.28)\n",
      "Requirement already satisfied: isodate>=0.6.0 in c:\\users\\ralexiou\\appdata\\local\\packages\\pythonsoftwarefoundation.python.3.10_qbz5n2kfra8p0\\localcache\\local-packages\\python310\\site-packages (from azure-search-documents) (0.6.1)\n",
      "Requirement already satisfied: typing-extensions>=4.6.0 in c:\\users\\ralexiou\\appdata\\local\\packages\\pythonsoftwarefoundation.python.3.10_qbz5n2kfra8p0\\localcache\\local-packages\\python310\\site-packages (from azure-search-documents) (4.13.0)\n",
      "Requirement already satisfied: requests>=2.21.0 in c:\\users\\ralexiou\\appdata\\local\\packages\\pythonsoftwarefoundation.python.3.10_qbz5n2kfra8p0\\localcache\\local-packages\\python310\\site-packages (from azure-core>=1.28.0->azure-search-documents) (2.31.0)\n",
      "Requirement already satisfied: six>=1.11.0 in c:\\users\\ralexiou\\appdata\\local\\packages\\pythonsoftwarefoundation.python.3.10_qbz5n2kfra8p0\\localcache\\local-packages\\python310\\site-packages (from azure-core>=1.28.0->azure-search-documents) (1.16.0)\n",
      "Requirement already satisfied: charset-normalizer<4,>=2 in c:\\users\\ralexiou\\appdata\\local\\packages\\pythonsoftwarefoundation.python.3.10_qbz5n2kfra8p0\\localcache\\local-packages\\python310\\site-packages (from requests>=2.21.0->azure-core>=1.28.0->azure-search-documents) (3.2.0)\n",
      "Requirement already satisfied: idna<4,>=2.5 in c:\\users\\ralexiou\\appdata\\local\\packages\\pythonsoftwarefoundation.python.3.10_qbz5n2kfra8p0\\localcache\\local-packages\\python310\\site-packages (from requests>=2.21.0->azure-core>=1.28.0->azure-search-documents) (3.4)\n",
      "Requirement already satisfied: urllib3<3,>=1.21.1 in c:\\users\\ralexiou\\appdata\\local\\packages\\pythonsoftwarefoundation.python.3.10_qbz5n2kfra8p0\\localcache\\local-packages\\python310\\site-packages (from requests>=2.21.0->azure-core>=1.28.0->azure-search-documents) (2.0.4)\n",
      "Requirement already satisfied: certifi>=2017.4.17 in c:\\users\\ralexiou\\appdata\\local\\packages\\pythonsoftwarefoundation.python.3.10_qbz5n2kfra8p0\\localcache\\local-packages\\python310\\site-packages (from requests>=2.21.0->azure-core>=1.28.0->azure-search-documents) (2023.7.22)\n"
     ]
    },
    {
     "name": "stderr",
     "output_type": "stream",
     "text": [
      "\n",
      "[notice] A new release of pip is available: 23.2.1 -> 25.0.1\n",
      "[notice] To update, run: C:\\Users\\ralexiou\\AppData\\Local\\Microsoft\\WindowsApps\\PythonSoftwareFoundation.Python.3.10_qbz5n2kfra8p0\\python.exe -m pip install --upgrade pip\n"
     ]
    }
   ],
   "source": [
    "!pip install azure-search-documents\n"
   ]
  },
  {
   "cell_type": "code",
   "execution_count": null,
   "metadata": {},
   "outputs": [
    {
     "name": "stdout",
     "output_type": "stream",
     "text": [
      "📄 Fabrice_Purchase Agreement_HandWritten.pdf\n",
      "\n",
      "ENVIRONMENTAL MATTERS: Buyer is advised that the presence of wetlands, toxic substances, including asbestos and wastes or other environmental hazards or the presence of a threatened or endangered species or its habitat may affect Buyer's intended use of the Property. If Buyer is concerned about these matters, an addendum promulgated by TREC or required by the parties should be used.\n",
      "\n",
      "H. SELLER'S DISCLOSURE:\n",
      "\n",
      "(1) Seller :unselected: is\n",
      " :selected:\n",
      "is not aware of any flooding of the Property whic...\n",
      "\n"
     ]
    }
   ],
   "source": [
    "from azure.search.documents import SearchClient\n",
    "from azure.core.credentials import AzureKeyCredential\n",
    "import json\n",
    "\n",
    "# Your setup\n",
    "endpoint = \"https://search-letch.search.windows.net\"\n",
    "index_name = \"default\"\n",
    "api_key = API_KEY\n",
    "\n",
    "\n",
    "client = SearchClient(\n",
    "    endpoint=endpoint,\n",
    "    index_name=index_name,\n",
    "    credential=AzureKeyCredential(api_key)\n",
    ")\n",
    "\n",
    "results = client.search(\"Residential Contract of Sale\", top=1)\n",
    "\n",
    "\n",
    "for result in results:\n",
    "    raw_payload = result.get(\"payload\", \"{}\")\n",
    "    payload = json.loads(raw_payload)\n",
    "    file = payload.get(\"file\", \"Unknown file\")\n",
    "    text = payload.get(\"text\", \"[No text found]\")\n",
    "    tags = result.get(\"tags\", [])\n",
    "    \n",
    "    print(f\"📄 {file}\\n\\n{text[:500]}...\\n\")  # print first 500 chars of text\n",
    "\n"
   ]
  },
  {
   "cell_type": "code",
   "execution_count": null,
   "metadata": {},
   "outputs": [],
   "source": [
    "import asyncio\n",
    "import logging\n",
    "\n",
    "\n",
    "from semantic_kernel import Kernel\n",
    "from semantic_kernel.utils.logging import setup_logging\n",
    "from semantic_kernel.functions import kernel_function\n",
    "from semantic_kernel.connectors.ai.open_ai import AzureChatCompletion\n",
    "from semantic_kernel.connectors.ai.function_choice_behavior import FunctionChoiceBehavior\n",
    "from semantic_kernel.connectors.ai.chat_completion_client_base import ChatCompletionClientBase\n",
    "from semantic_kernel.contents.chat_history import ChatHistory\n",
    "from semantic_kernel.functions.kernel_arguments import KernelArguments\n",
    "from semantic_kernel.connectors.ai.open_ai.prompt_execution_settings.azure_chat_prompt_execution_settings import (\n",
    "    AzureChatPromptExecutionSettings,\n",
    ")\n",
    "\n",
    "import importlib\n",
    "import KnowledgeBasePlugin \n",
    "importlib.reload(KnowledgeBasePlugin)\n",
    "\n",
    "\n",
    "# IMPORT PLUGINS\n",
    "from LightsPlugin import LightsPlugin\n",
    "from KnowledgeBasePlugin import KnowledgeBasePlugin\n"
   ]
  },
  {
   "cell_type": "code",
   "execution_count": null,
   "metadata": {},
   "outputs": [],
   "source": [
    "# Initialize Kernel\n",
    "kernel = Kernel()\n",
    "\n",
    "\n",
    "# Set up Azure OpenAI completion service\n",
    "chat_completion = AzureChatCompletion(\n",
    "    deployment_name=\"gpt-4o-mini\",\n",
    "    api_key=API_KEY,  \n",
    "    base_url=\"https://aoai-devoxx2025.openai.azure.com/openai/deployments/gpt-4o-mini/chat/completions?api-version=2025-01-01-preview\"\n",
    ")\n",
    "\n",
    "# Add the service to the kernel\n",
    "kernel.add_service(chat_completion)\n",
    "\n",
    "# Logging setup\n",
    "setup_logging()\n",
    "logging.getLogger(\"kernel\").setLevel(logging.DEBUG)\n"
   ]
  },
  {
   "cell_type": "code",
   "execution_count": null,
   "metadata": {},
   "outputs": [
    {
     "name": "stdout",
     "output_type": "stream",
     "text": [
      "\n",
      "🧩 Plugin: Lights\n",
      "  └─ change_state\n",
      "  └─ get_lights\n",
      "\n",
      "🧩 Plugin: KnowledgeBase\n",
      "  └─ ask_with_context\n",
      "  └─ search_docs\n"
     ]
    }
   ],
   "source": [
    "# Add the Lights plugin (it exposes semantic functions like turn_on, turn_off, etc.)\n",
    "kernel.add_plugin(\n",
    "    LightsPlugin(),\n",
    "    plugin_name=\"Lights\",\n",
    ")\n",
    "\n",
    "# Remove previous plugin instance if needed\n",
    "if \"KnowledgeBase\" in kernel.plugins:\n",
    "    del kernel.plugins[\"KnowledgeBase\"]\n",
    "\n",
    "\n",
    "# Add the KnowledgeBase plugin (it exposes semantic functions like get_answer, get_summary, etc.)\n",
    "kernel.add_plugin(\n",
    "    KnowledgeBasePlugin(endpoint=\"https://search-letch.search.windows.net\", index_name=\"default\", api_key=API_KEY),\n",
    "    plugin_name=\"KnowledgeBase\",\n",
    ")\n",
    "\n",
    "for plugin_name, plugin in kernel.plugins.items():\n",
    "    print(f\"\\n🧩 Plugin: {plugin_name}\")\n",
    "    for func in plugin:\n",
    "        print(f\"  └─ {func.name}\")\n",
    "\n"
   ]
  },
  {
   "cell_type": "code",
   "execution_count": 135,
   "metadata": {},
   "outputs": [],
   "source": [
    "# Set up execution settings\n",
    "execution_settings = AzureChatPromptExecutionSettings()\n",
    "execution_settings.function_choice_behavior = FunctionChoiceBehavior.Auto()\n",
    "\n",
    "# Create conversation history\n",
    "history = ChatHistory()\n",
    "\n",
    "async def chat_with_assistant(user_input: str):\n",
    "    history.add_user_message(user_input)\n",
    "    \n",
    "    result = await chat_completion.get_chat_message_content(\n",
    "        chat_history=history,\n",
    "        settings=execution_settings,\n",
    "        kernel=kernel,\n",
    "    )\n",
    "\n",
    "    print(\"Assistant >\", result)\n",
    "    \n",
    "    history.add_message(result)\n"
   ]
  },
  {
   "cell_type": "code",
   "execution_count": 43,
   "metadata": {},
   "outputs": [
    {
     "name": "stdout",
     "output_type": "stream",
     "text": [
      "Assistant > Here is the current state of all the lights:\n",
      "\n",
      "1. **Table Lamp**: Off\n",
      "2. **Porch Light**: Off\n",
      "3. **Chandelier**: Off\n"
     ]
    }
   ],
   "source": [
    "await chat_with_assistant(\"Can you show me the current state of all the lights?\")\n"
   ]
  },
  {
   "cell_type": "code",
   "execution_count": 125,
   "metadata": {},
   "outputs": [
    {
     "name": "stdout",
     "output_type": "stream",
     "text": [
      "Assistant > A **Residential Contract of Sale** is a legally binding agreement that facilitates the sale and purchase of residential real estate, typically involving single-family homes. Here are key aspects of such contracts based on the provided documents:\n",
      "\n",
      "1. **Parties Involved**: The contract identifies the seller and buyer involved in the transaction. For example, in a specific Maryland contract, the seller is an individual (Anne Patel) and the buyer (Oscar Ward).\n",
      "\n",
      "2. **Property Description**: The contract will include details about the property being sold, including its address and specifics about the property type.\n",
      "\n",
      "3. **Financial Terms**: This includes the purchase price, deposit amounts, financing terms (such as loan amounts and interest rates), and payment details, including when payments are due.\n",
      "\n",
      "4. **Contingencies**: Many contracts include conditions that must be met for the sale to proceed. Common contingencies involve financing approval, home inspections, and appraisal results.\n",
      "\n",
      "5. **Closing Process**: The contract outlines when the sale will be finalized (the closing), what documents will be exchanged, and any obligations both parties have leading up to and on the closing date.\n",
      "\n",
      "6. **Rights and Responsibilities**: The contract defines the rights and responsibilities of each party, including disclosures that the seller must make about the property, such as environmental hazards or existing conditions (like flooding history).\n",
      "\n",
      "7. **Entire Agreement Clause**: The contract typically states that it constitutes the entire agreement between the parties and can only be modified in writing.\n",
      "\n",
      "8. **Legal Enforceability**: This agreement is significant as it creates legal obligations and, if either party fails to comply, it may lead to default or legal action.\n",
      "\n",
      "Overall, the Residential Contract of Sale is an essential document that outlines all critical aspects of a residential property transaction to protect the interests of both buyers and sellers.\n"
     ]
    }
   ],
   "source": [
    "await chat_with_assistant(\"Use the knowledge base to explain what is a Residential Contract of Sale.\")\n"
   ]
  },
  {
   "cell_type": "code",
   "execution_count": 136,
   "metadata": {},
   "outputs": [
    {
     "name": "stdout",
     "output_type": "stream",
     "text": [
      "Assistant > Here are some documents related to seller disclosures:\n",
      "\n",
      "1. **[Manmaya-handwritten-single-family-home-contract.pdf](#)**  \n",
      "   This document is a contract between the seller, Noel Belisle, and the buyer, Manmaya Panigrahi, for a property located in Los Angeles, CA. It details the sales price of $500,000, earnest money requirements, and the seller's obligations regarding title policy and survey. The contract includes provisions for repairs, disclosures, and remedies for potential defaults.\n",
      "\n",
      "2. **[Oscar-Ward-Real-Estate-Contract.pdf](#)**  \n",
      "   This document discusses obligations related to lead poisoning prevention in Maryland. It states that any residential dwelling constructed prior to 1950 must be registered with the Maryland Department of the Environment. The contract includes details on disclosures required for properties built before 1979 and mentions several addenda that may be attached, including property disclosures and inspections.\n",
      "\n",
      "3. **[Eric-handwritten-new-construction-contract.pdf](#)**  \n",
      "   This contract outlines the terms of a sale for new construction in San Antonio, TX. It specifies the sales price of $600,000, earnest money, and the responsibilities of both the seller and buyer regarding property inspection, title policy, and other disclosures. The importance of legal advice before signing is emphasized.\n",
      "\n",
      "If you need more specific information or additional documents, feel free to ask!\n"
     ]
    }
   ],
   "source": [
    "await chat_with_assistant(\"Show me documents about seller disclosures.\")\n"
   ]
  }
 ],
 "metadata": {
  "kernelspec": {
   "display_name": "Python 3",
   "language": "python",
   "name": "python3"
  },
  "language_info": {
   "codemirror_mode": {
    "name": "ipython",
    "version": 3
   },
   "file_extension": ".py",
   "mimetype": "text/x-python",
   "name": "python",
   "nbconvert_exporter": "python",
   "pygments_lexer": "ipython3",
   "version": "3.10.11"
  }
 },
 "nbformat": 4,
 "nbformat_minor": 2
}
