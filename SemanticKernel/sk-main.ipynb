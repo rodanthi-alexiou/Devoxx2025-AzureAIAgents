{
 "cells": [
  {
   "cell_type": "markdown",
   "metadata": {},
   "source": [
    "## What is Semantic Kernel?\n",
    "\n",
    "Semantic Kernel is a model-agnostic SDK that empowers developers to build, orchestrate, and deploy AI agents and multi-agent systems. Whether you're building a simple chatbot or a complex multi-agent workflow, Semantic Kernel provides the tools you need with enterprise-grade reliability and flexibility.\n",
    "\n",
    "## System Requirements\n",
    "\n",
    "- **Python**: 3.10+\n",
    "- **.NET**: .NET 8.0+ \n",
    "- **Java**: JDK 17+\n",
    "- **OS Support**: Windows, macOS, Linux\n",
    "\n",
    "## Key Features\n",
    "\n",
    "- **Model Flexibility**: Connect to any LLM with built-in support for [OpenAI](https://platform.openai.com/docs/introduction), [Azure OpenAI](https://azure.microsoft.com/en-us/products/ai-services/openai-service), [Hugging Face](https://huggingface.co/), [NVidia](https://www.nvidia.com/en-us/ai-data-science/products/nim-microservices/) and more\n",
    "- **Agent Framework**: Build modular AI agents with access to tools/plugins, memory, and planning capabilities\n",
    "- **Multi-Agent Systems**: Orchestrate complex workflows with collaborating specialist agents\n",
    "- **Plugin Ecosystem**: Extend with native code functions, prompt templates, OpenAPI specs, or Model Context Protocol (MCP)\n",
    "- **Vector DB Support**: Seamless integration with [Azure AI Search](https://learn.microsoft.com/en-us/azure/search/search-what-is-azure-search), [Elasticsearch](https://www.elastic.co/), [Chroma](https://docs.trychroma.com/getting-started), and more\n",
    "- **Multimodal Support**: Process text, vision, and audio inputs\n",
    "- **Local Deployment**: Run with [Ollama](https://ollama.com/), [LMStudio](https://lmstudio.ai/), or [ONNX](https://onnx.ai/)\n",
    "- **Process Framework**: Model complex business processes with a structured workflow approach\n",
    "- **Enterprise Ready**: Built for observability, security, and stable APIs\n",
    "\n",
    "\n",
    "## 💡 Initialize our Project"
   ]
  },
  {
   "cell_type": "code",
   "execution_count": 1,
   "metadata": {},
   "outputs": [],
   "source": [
    "import asyncio\n",
    "import logging\n",
    "import os\n",
    "import sys\n",
    "from dotenv import load_dotenv\n",
    "import importlib\n",
    "from semantic_kernel import Kernel\n",
    "from semantic_kernel.utils.logging import setup_logging\n",
    "from semantic_kernel.functions import kernel_function\n",
    "from semantic_kernel.connectors.ai.open_ai import AzureChatCompletion\n",
    "from semantic_kernel.connectors.ai.function_choice_behavior import FunctionChoiceBehavior\n",
    "from semantic_kernel.connectors.ai.chat_completion_client_base import ChatCompletionClientBase\n",
    "from semantic_kernel.contents.chat_history import ChatHistory\n",
    "from semantic_kernel.functions.kernel_arguments import KernelArguments\n",
    "from semantic_kernel.connectors.ai.open_ai.prompt_execution_settings.azure_chat_prompt_execution_settings import (\n",
    "    AzureChatPromptExecutionSettings,\n",
    ")\n",
    "\n",
    "project_root = os.path.abspath(os.path.join(os.getcwd(), '..'))\n",
    "sys.path.append(project_root)\n",
    "\n",
    "\n",
    "\n",
    "import Plugins.KnowledgeBasePlugin as kb_plugin # Import the KnowledgeBasePlugin\n",
    "import Plugins.LightsPlugin as lights_plugin # Import the LightsPlugin\n",
    "importlib.reload(kb_plugin) \n",
    "importlib.reload(lights_plugin) \n",
    "\n",
    "KnowledgeBasePlugin = kb_plugin.KnowledgeBasePlugin\n",
    "LightsPlugin = lights_plugin.LightsPlugin\n",
    "\n",
    "\n",
    "# Set up the Endpoint and API Key for Azure OpenAI and Azure Search\n",
    "load_dotenv(dotenv_path=\"variables.env\")\n",
    "\n",
    "azure_openai_endpoint = os.getenv(\"AZURE_OPENAI_ENDPOINT\")\n",
    "azure_openai_api_key = os.getenv(\"AZURE_OPENAI_API_KEY\")\n",
    "gpt_deployment = os.getenv(\"AZURE_OPENAI_DEPLOYMENT_NAME\")\n",
    "\n",
    "azure_search_endpoint = os.getenv(\"AZURE_SEARCH_ENDPOINT\")\n",
    "azure_search_key = os.getenv(\"AZURE_SEARCH_KEY\")\n",
    "\n",
    "# Print the loaded environment variables for debugging\n"
   ]
  },
  {
   "cell_type": "markdown",
   "metadata": {},
   "source": [
    "## 💡 Initialize Kernel and add AzureChatCompletion\n",
    "\n",
    "This code block demonstrates how to initialize a Semantic Kernel, which serves as the central component for managing AI services and plugins, and configure it to use Azure OpenAI's chat completion service.\n",
    "\n"
   ]
  },
  {
   "cell_type": "code",
   "execution_count": 2,
   "metadata": {},
   "outputs": [],
   "source": [
    "# Initialize Kernel\n",
    "kernel = Kernel()\n",
    "\n",
    "\n",
    "# Set up Azure OpenAI completion service\n",
    "chat_completion = AzureChatCompletion(\n",
    "    deployment_name=gpt_deployment,\n",
    "    api_key=azure_openai_api_key,  \n",
    "    base_url=azure_openai_endpoint,\n",
    ")\n",
    "\n",
    "# Add the service to the kernel\n",
    "kernel.add_service(chat_completion)\n",
    "\n",
    "# Logging setup\n",
    "setup_logging()\n",
    "logging.getLogger(\"kernel\").setLevel(logging.DEBUG)\n"
   ]
  },
  {
   "cell_type": "markdown",
   "metadata": {},
   "source": [
    "## 💡 Add Plugins to the Kernel to invoke the functions"
   ]
  },
  {
   "cell_type": "code",
   "execution_count": 3,
   "metadata": {},
   "outputs": [
    {
     "name": "stdout",
     "output_type": "stream",
     "text": [
      "\n",
      "🧩 Plugin: Lights\n",
      "  └─ change_state: Changes the state of the light\n",
      "  └─ get_lights: Gets a list of lights and their current state\n",
      "\n",
      "🧩 Plugin: KnowledgeBase\n",
      "  └─ ask_with_context: Answers a user question using top 5 relevant documents from Azure Search.\n",
      "  └─ search_docs: Retrieve top 3 documents from the knowledge base that match a query. Includes filename and a 500-word preview of each result.\n"
     ]
    }
   ],
   "source": [
    "# Add the Lights plugin \n",
    "kernel.add_plugin(\n",
    "    LightsPlugin(),\n",
    "    plugin_name=\"Lights\",\n",
    ")\n",
    "\n",
    "# Remove previous plugin instance if needed\n",
    "if \"KnowledgeBase\" in kernel.plugins:\n",
    "    del kernel.plugins[\"KnowledgeBase\"]\n",
    "\n",
    "\n",
    "# Add the KnowledgeBase plugin \n",
    "kernel.add_plugin(\n",
    "    KnowledgeBasePlugin(\n",
    "        endpoint=azure_search_endpoint, \n",
    "        index_name=\"default\", \n",
    "        api_key=azure_search_key\n",
    "        ),\n",
    "    plugin_name=\"KnowledgeBase\",\n",
    ")\n",
    "\n",
    "for plugin_name, plugin in kernel.plugins.items():\n",
    "    print(f\"\\n🧩 Plugin: {plugin_name}\")\n",
    "    for func in plugin:\n",
    "        print(f\"  └─ {func.name}: {func.description}\")\n",
    "\n"
   ]
  },
  {
   "cell_type": "markdown",
   "metadata": {},
   "source": [
    "# 🧠 Planner\n",
    "Semantic Kernel leverages function calling–a native feature of most LLMs–to provide planning. With function calling, LLMs can request (or call) a particular function to satisfy a user's request. Semantic Kernel then marshals the request to the appropriate function in your codebase and returns the results back to the LLM so the AI agent can generate a final response.\n",
    "\n",
    "Function choice behaviors are bits of configuration that allow a developer to configure:\n",
    "\n",
    "- 📣 **Which functions are advertised to AI models.**  \n",
    "- 🧭 **How the models should choose them for invocation.**  \n",
    "- ⚙️ **How Semantic Kernel might invoke those functions.**\n",
    "\n",
    "---\n",
    "\n",
    "## 📚 Available Function Choice Behaviors\n",
    "\n",
    "As of today, the function choice behaviors are represented by three class methods of the `FunctionChoiceBehavior` class:\n",
    "\n",
    "### 🔄 `Auto`\n",
    "💡 *Allows the AI model to choose from zero or more function(s) from the provided function(s) for invocation.*\n",
    "\n",
    "### ✅ `Required`\n",
    "📌 *Forces the AI model to choose one or more function(s) from the provided function(s) for invocation.*\n",
    "\n",
    "### 🚫 `NoneInvoke`\n",
    "⛔ *Instructs the AI model not to choose any function(s).*\n"
   ]
  },
  {
   "cell_type": "code",
   "execution_count": null,
   "metadata": {},
   "outputs": [],
   "source": [
    "# Set up execution settings\n",
    "execution_settings = AzureChatPromptExecutionSettings()\n",
    "execution_settings.function_choice_behavior = FunctionChoiceBehavior.Auto() "
   ]
  },
  {
   "cell_type": "code",
   "execution_count": null,
   "metadata": {},
   "outputs": [],
   "source": [
    "# Create conversation history\n",
    "history = ChatHistory()\n",
    "\n",
    "\n",
    "async def chat_with_assistant(user_input: str):\n",
    "    history.add_user_message(user_input)\n",
    "    print(\"User >\", user_input)\n",
    "    result = await chat_completion.get_chat_message_content(\n",
    "        chat_history=history,\n",
    "        settings=execution_settings,\n",
    "        kernel=kernel,\n",
    "    )\n",
    "\n",
    "    print(\"Assistant >\", result)\n",
    "    \n",
    "    history.add_message(result)"
   ]
  },
  {
   "cell_type": "markdown",
   "metadata": {},
   "source": [
    "## 💡 Test it!"
   ]
  },
  {
   "cell_type": "code",
   "execution_count": 32,
   "metadata": {},
   "outputs": [
    {
     "name": "stdout",
     "output_type": "stream",
     "text": [
      "User > Can you show me the current state of all the lights?\n",
      "Assistant > Here is the current state of all the lights:\n",
      "\n",
      "1. **Table Lamp**: On\n",
      "2. **Porch Light**: Off\n",
      "3. **Chandelier**: On\n",
      "User > Can you turn on the table lamp light?\n",
      "Assistant > The Table Lamp is now turned on.\n",
      "User > What about now? Are all the lights on?\n",
      "Assistant > Currently, the state of the lights is as follows:\n",
      "\n",
      "1. **Table Lamp**: On\n",
      "2. **Porch Light**: Off\n",
      "3. **Chandelier**: On\n",
      "\n",
      "Not all the lights are on; the Porch Light is off.\n"
     ]
    }
   ],
   "source": [
    "await chat_with_assistant(\"Can you show me the current state of all the lights?\")\n",
    "await chat_with_assistant(\"Can you turn on the table lamp light?\")\n",
    "await chat_with_assistant(\"What about now? Are all the lights on?\")"
   ]
  },
  {
   "cell_type": "code",
   "execution_count": 33,
   "metadata": {},
   "outputs": [
    {
     "name": "stdout",
     "output_type": "stream",
     "text": [
      "User > Use the knowledge base to explain what is a Residential Contract of Sale.\n",
      "Assistant > A Residential Contract of Sale is a legally binding agreement for the sale and purchase of improved single-family residential real estate. It establishes the terms and conditions under which the property will be sold, including:\n",
      "\n",
      "- **Parties Involved**: It clearly outlines the seller and buyer's names and addresses.\n",
      "- **Property Details**: It specifies the location and legal description of the property being sold.\n",
      "- **Purchase Price**: The total price of the property, along with details regarding any deposits or payment schedules.\n",
      "- **Contingencies**: Conditions that must be satisfied for the sale to proceed, such as financing approval or inspection results.\n",
      "- **Timeframes**: Important deadlines, including the date of the contract, settlement date, and any time-sensitive actions that must occur.\n",
      "- **Responsibilities**: It details the obligations of both parties regarding inspections, repairs, and disclosures, including any environmental or zoning issues.\n",
      "- **Entire Agreement Clause**: Typically, it states that the contract represents the complete agreement between the parties and must be modified in writing.\n",
      "\n",
      "In summary, the Residential Contract of Sale is essential for facilitating a real estate transaction and ensuring both parties understand their rights and responsibilities.\n"
     ]
    }
   ],
   "source": [
    "await chat_with_assistant(\"Use the knowledge base to explain what is a Residential Contract of Sale.\")\n"
   ]
  },
  {
   "cell_type": "code",
   "execution_count": 28,
   "metadata": {},
   "outputs": [
    {
     "name": "stdout",
     "output_type": "stream",
     "text": [
      "Assistant > Here are some documents related to seller disclosures:\n",
      "\n",
      "1. **[Manmaya-handwritten-single-family-home-contract.pdf]**:\n",
      "   - This document is a contract for the sale of a property located at 2345 Oak Ave, Los Angeles, CA. It includes provisions for seller disclosures, the responsibilities of both parties, and specifies the need for earnest money and inspection rights. The closing date is set for on or before October 1, 2024.\n",
      "\n",
      "2. **[Oscar-Ward-Real-Estate-Contract.pdf]**:\n",
      "   - This contract outlines a residential sale in Maryland and includes detailed disclosures concerning lead poisoning prevention and other potential environmental hazards. It also includes an addendum for various disclosures required by law, emphasizing the seller's responsibilities related to health and safety standards.\n",
      "\n",
      "3. **[Eric-handwritten-new-construction-contract.pdf]**:\n",
      "   - This document relates to a contract for a new construction property sale in San Antonio, TX. It details seller obligations, such as providing a title policy and allowing the buyer to conduct inspections. The contract also covers disclosures concerning property conditions and legal considerations.\n",
      "\n",
      "These documents provide insights into the kinds of seller disclosures that are typically required in residential real estate transactions.\n"
     ]
    }
   ],
   "source": [
    "await chat_with_assistant(\"Show me documents about seller disclosures.\")\n"
   ]
  },
  {
   "cell_type": "markdown",
   "metadata": {},
   "source": [
    "## 💡 Try to create your own Plugin \n",
    "\n",
    "\n",
    "Below is a list of easy, API-free Semantic Kernel plugins attendees can build during the workshop:\n",
    "\n",
    "---\n",
    "\n",
    "### ✅ WeatherPlugin\n",
    "**Functionality:**\n",
    "- `get_weather(city)`: Returns temperature, humidity, and condition.\n",
    "- `get_temperature(city)`: Returns only the temperature.\n",
    "- `get_humidity(city)`: Returns only the humidity.\n",
    "\n",
    "---\n",
    "\n",
    "### ✅ TodoPlugin\n",
    "**Functionality:**\n",
    "- `add_task(task)`: Adds a task to the list.\n",
    "- `list_tasks()`: Lists all current tasks.\n",
    "- `remove_task(index)`: Removes a task by its index.\n",
    "\n",
    "---\n",
    "\n",
    "### ✅ MusicPlugin\n",
    "**Functionality:**\n",
    "- `add_song(title)`: Adds a song to the playlist.\n",
    "- `now_playing()`: Shows the currently playing song.\n",
    "- `skip_song()`: Skips the current song.\n",
    "\n",
    "---\n",
    "\n",
    "### ✅ BookTrackerPlugin\n",
    "**Functionality:**\n",
    "- `add_book(title)`: Adds a book to the reading list.\n",
    "- `mark_read(title)`: Marks a book as read.\n",
    "- `list_books()`: Lists all books with their statuses.\n",
    "\n",
    "---\n",
    "\n",
    "### ✅ HabitPlugin\n",
    "**Functionality:**\n",
    "- `check_in()`: Logs a habit check-in and updates streak.\n",
    "\n",
    "\n",
    "\n",
    "## Resources to help you:\n",
    "\n",
    "- https://learn.microsoft.com/en-us/semantic-kernel/concepts/plugins/?pivots=programming-language-python\n",
    "- https://learn.microsoft.com/en-us/semantic-kernel/concepts/plugins/adding-native-plugins?pivots=programming-language-python"
   ]
  }
 ],
 "metadata": {
  "kernelspec": {
   "display_name": "Python 3",
   "language": "python",
   "name": "python3"
  },
  "language_info": {
   "codemirror_mode": {
    "name": "ipython",
    "version": 3
   },
   "file_extension": ".py",
   "mimetype": "text/x-python",
   "name": "python",
   "nbconvert_exporter": "python",
   "pygments_lexer": "ipython3",
   "version": "3.10.11"
  }
 },
 "nbformat": 4,
 "nbformat_minor": 2
}
